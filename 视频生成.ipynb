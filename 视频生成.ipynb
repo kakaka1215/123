{
 "cells": [
  {
   "cell_type": "code",
   "execution_count": 1,
   "id": "900434cd-280d-457a-b085-e9d2a59c0e30",
   "metadata": {
    "execution": {
     "iopub.execute_input": "2024-11-21T07:19:24.848010Z",
     "iopub.status.busy": "2024-11-21T07:19:24.847465Z",
     "iopub.status.idle": "2024-11-21T07:19:25.387911Z",
     "shell.execute_reply": "2024-11-21T07:19:25.387308Z",
     "shell.execute_reply.started": "2024-11-21T07:19:24.847983Z"
    },
    "tags": []
   },
   "outputs": [
    {
     "name": "stdout",
     "output_type": "stream",
     "text": [
      "VideoObject(id='57251732172218335-9221298529227904806', model='cogvideox', video_result=None, task_status='PROCESSING', request_id='-9221298529227904807')\n"
     ]
    }
   ],
   "source": [
    "from zhipuai import ZhipuAI\n",
    "client = ZhipuAI(api_key=\"370acd20f1b553f32bc81007dc8d625f.AhcUjz5GCH37Spqs\")\n",
    "\n",
    "response = client.videos.generations(\n",
    "    model=\"cogvideox\",\n",
    "    prompt=\"请生成一段视频\"\n",
    ")\n",
    "print(response)"
   ]
  },
  {
   "cell_type": "code",
   "execution_count": 6,
   "id": "095b8b52-a93a-4d9e-95dc-876e30f9893c",
   "metadata": {
    "execution": {
     "iopub.execute_input": "2024-11-21T07:22:05.302364Z",
     "iopub.status.busy": "2024-11-21T07:22:05.301873Z",
     "iopub.status.idle": "2024-11-21T07:22:05.429922Z",
     "shell.execute_reply": "2024-11-21T07:22:05.429220Z",
     "shell.execute_reply.started": "2024-11-21T07:22:05.302322Z"
    },
    "tags": []
   },
   "outputs": [
    {
     "name": "stdout",
     "output_type": "stream",
     "text": [
      "VideoObject(id=None, model='cogvideox', video_result=[VideoResult(url='https://aigc-files.bigmodel.cn/api/cogvideo/f008bb0c-a7d8-11ef-bd78-9ee7942420ea_0.mp4', cover_image_url='https://aigc-files.bigmodel.cn/api/cogvideo/f008bb0c-a7d8-11ef-bd78-9ee7942420ea_cover_0.jpeg')], task_status='SUCCESS', request_id='-9221298529227904807')\n"
     ]
    }
   ],
   "source": [
    "from zhipuai import ZhipuAI\n",
    "client = ZhipuAI(api_key=\"370acd20f1b553f32bc81007dc8d625f.AhcUjz5GCH37Spqs\")  # 请替换为您自己的API密钥\n",
    "\n",
    "response = client.videos.retrieve_videos_result(\n",
    "    id=\"57251732172218335-9221298529227904806\"\n",
    ")\n",
    "\n",
    "print(response)"
   ]
  },
  {
   "cell_type": "code",
   "execution_count": null,
   "id": "208199ee-ca03-46d6-bbca-4f44180c09dc",
   "metadata": {},
   "outputs": [],
   "source": []
  }
 ],
 "metadata": {
  "kernelspec": {
   "display_name": "Python 3 (ipykernel)",
   "language": "python",
   "name": "python3"
  },
  "language_info": {
   "codemirror_mode": {
    "name": "ipython",
    "version": 3
   },
   "file_extension": ".py",
   "mimetype": "text/x-python",
   "name": "python",
   "nbconvert_exporter": "python",
   "pygments_lexer": "ipython3",
   "version": "3.8.18"
  }
 },
 "nbformat": 4,
 "nbformat_minor": 5
}
