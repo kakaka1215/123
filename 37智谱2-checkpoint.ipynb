{
 "cells": [
  {
   "cell_type": "code",
   "execution_count": 2,
   "id": "c3a52941-c132-4e68-a3ca-407649926019",
   "metadata": {},
   "outputs": [
    {
     "name": "stdout",
     "output_type": "stream",
     "text": [
      "Requirement already satisfied: zhipuai in c:\\programdata\\anaconda3\\lib\\site-packages (2.1.5.20230904)Note: you may need to restart the kernel to use updated packages.\n",
      "Requirement already satisfied: cachetools>=4.2.2 in c:\\programdata\\anaconda3\\lib\\site-packages (from zhipuai) (5.5.0)\n",
      "Requirement already satisfied: pyjwt<2.9.0,>=2.8.0 in c:\\programdata\\anaconda3\\lib\\site-packages (from zhipuai) (2.8.0)\n",
      "Requirement already satisfied: pydantic<3.0,>=1.9.0 in c:\\programdata\\anaconda3\\lib\\site-packages (from zhipuai) (2.9.2)\n",
      "Requirement already satisfied: httpx>=0.23.0 in c:\\programdata\\anaconda3\\lib\\site-packages (from zhipuai) (0.27.2)\n",
      "Requirement already satisfied: pydantic-core>=2.14.6 in c:\\programdata\\anaconda3\\lib\\site-packages (from zhipuai) (2.23.4)\n",
      "Requirement already satisfied: idna in c:\\programdata\\anaconda3\\lib\\site-packages (from httpx>=0.23.0->zhipuai) (3.2)\n",
      "Requirement already satisfied: certifi in c:\\programdata\\anaconda3\\lib\\site-packages (from httpx>=0.23.0->zhipuai) (2021.10.8)\n",
      "Requirement already satisfied: anyio in c:\\programdata\\anaconda3\\lib\\site-packages (from httpx>=0.23.0->zhipuai) (2.2.0)\n",
      "Requirement already satisfied: sniffio in c:\\programdata\\anaconda3\\lib\\site-packages (from httpx>=0.23.0->zhipuai) (1.2.0)\n",
      "Requirement already satisfied: httpcore==1.* in c:\\programdata\\anaconda3\\lib\\site-packages (from httpx>=0.23.0->zhipuai) (1.0.7)\n",
      "Requirement already satisfied: h11<0.15,>=0.13 in c:\\programdata\\anaconda3\\lib\\site-packages (from httpcore==1.*->httpx>=0.23.0->zhipuai) (0.14.0)\n",
      "Requirement already satisfied: typing-extensions>=4.6.1 in c:\\programdata\\anaconda3\\lib\\site-packages (from pydantic<3.0,>=1.9.0->zhipuai) (4.12.2)\n",
      "Requirement already satisfied: annotated-types>=0.6.0 in c:\\programdata\\anaconda3\\lib\\site-packages (from pydantic<3.0,>=1.9.0->zhipuai) (0.7.0)\n",
      "\n"
     ]
    }
   ],
   "source": [
    "pip install zhipuai"
   ]
  },
  {
   "cell_type": "code",
   "execution_count": 3,
   "id": "7f65e13f-da8f-48df-af67-6911b8350b54",
   "metadata": {},
   "outputs": [
    {
     "data": {
      "text/plain": [
       "'C:\\\\Users\\\\admin\\\\Desktop'"
      ]
     },
     "execution_count": 3,
     "metadata": {},
     "output_type": "execute_result"
    }
   ],
   "source": [
    "pwd"
   ]
  },
  {
   "cell_type": "code",
   "execution_count": 4,
   "id": "b5162650-2c15-4d21-b86a-e2008bfd1543",
   "metadata": {},
   "outputs": [],
   "source": [
    "import os\n",
    "from zhipuai import ZhipuAI\n",
    "import base64"
   ]
  },
  {
   "cell_type": "code",
   "execution_count": 5,
   "id": "63c30c94-7e89-4e79-a280-4ce38691e592",
   "metadata": {},
   "outputs": [],
   "source": [
    "os.environ[\"ZHIPUAI_API_Key\"] = \"4dd4d1f0b52369010e43825c8ad72da1.BgCsqiI0hT0qvEBy\"\n",
    "client = ZhipuAI()"
   ]
  },
  {
   "cell_type": "code",
   "execution_count": 6,
   "id": "4f0dc706-8509-4800-945a-8ba700840e8e",
   "metadata": {},
   "outputs": [
    {
     "name": "stdout",
     "output_type": "stream",
     "text": [
      "通常来说，视频理解的响应时间较长，需要等待数十秒.....\n",
      "CompletionMessage(content='镜头俯拍，画面中是一个蛋糕，一只右手拿着刀正在切一块透明胶带并撕下粘在蛋糕上，然后这只手从画面上方离开。接着画面切换到桌子上放着两个杯子和一包东西，一只右手拿起其中一个杯子并向左移动，左手拿起另一个杯子向右移动，然后右手拿起一个碗放在中间偏右的位置，左手用勺子挖了一勺红色粉末倒进右手的杯子中，然后又挖了一勺绿色粉末倒进左手的杯子中，接着右手将装有红色粉末的杯子拿到右边，左手将装有绿色粉末的杯子拿到左边，然后右手拿了一个打蛋器开始搅拌右边的杯子中的液体，接着左手也拿了一个打蛋器开始搅拌左边杯子里的液体，然后双手放下打蛋器，右手拿起装有红色粉末的碗，左手拿起装有绿色粉末的碗，然后右手将装有红色粉末的碗放到右边，左手将装有绿色粉末的碗放到左边，然后右手拿起一个打蛋器开始搅拌右边的碗中的液体，接着右手放下打蛋器并用勺子挖了一勺红色液体倒入左边的碗中，然后右手拿了一个打蛋器开始搅拌左边碗里的液体，接着双手放下打蛋器，右手拿起装有红色粉末的碗，左手拿起装有绿色粉末的碗，然后右手将装有红色粉末的碗放到右边，左手将装有绿色粉末的碗放到左边，然后右手拿起一个打蛋器开始搅拌右边的碗中的液体，接着右手放下打蛋器并用勺子挖了一勺红色液体倒入左边的碗中，然后右手拿了一个打蛋器开始搅拌左边碗里的液体，接着双手放下打蛋器，右手拿起装有红色粉末的碗，左手拿起装有绿色粉末的碗，然后右手将装有红色粉末的碗放到右边，左手将装有绿色粉末的碗放到左边，然后右手拿起一个打蛋器开始搅拌右边的碗中的液体，接着右手放下打蛋器并用勺子挖了一勺红色液体倒入左边的碗中，然后右手拿了一个打蛋器开始搅拌左边碗里的液体，接着双手放下打蛋器，右手拿起装有红色粉末的碗，左手拿起装有绿色粉末的碗，然后右手将装有红色粉末的碗放到右边，左手将装有绿色粉末的碗放到左边，然后右手拿起一个打蛋器开始搅拌右边的碗中的液体，接着右手放下打蛋器并用勺子挖了一勺红色液体倒入左边的碗中，然后右手拿了一个打蛋器开始搅拌左边碗里的液体，接着双手放下打蛋器，右手拿起装有红色粉末的碗，左手拿起装有绿色粉末的碗，然后右手将装有红色粉末的碗放到右边，左手将装有绿色粉末的碗放到左边，然后右手拿起一个打蛋器开始搅拌右边的碗中的液体，接着右手放下打蛋器并用勺子挖了一勺红色液体倒入左边的碗中，然后右手拿了一个打蛋器开始搅拌左边碗里的液体，接着双手放下打蛋器，右手拿起装有红色粉末的碗，左手拿起装有绿色粉末的碗，然后右手将装有红色粉末的碗放到右边，左手将装有绿色粉末的碗放到左边，然后右手拿起一个打蛋器开始搅拌右边的碗中的液体，接着右手放下打蛋器并用勺子挖了一勺红色液体倒入左边的碗中，然后右手拿了一个打蛋器开始搅拌左边碗里的液体，接着双手放下打蛋器，右手拿起装有红色粉末的碗，左手拿起装有绿色粉末的碗，然后右手将装有红色粉末的碗放到右边，左手将装有绿色粉末的碗放到左边，然后右手拿起一个打蛋器开始搅拌右边的碗中的液体，接着右手放下打蛋器并用勺子挖了一勺红色液体倒入左边的碗中，然后右手拿了一个打蛋器开始搅拌左边碗里的液体，接着双手放下打蛋器，右手拿起装有红色粉末的碗，左手拿起装有绿色粉末的碗，然后右手将装有红色粉末的碗放到右边，左手将装有绿色粉末的碗放到左边，然后右手拿起一个打蛋器开始搅拌右边的碗中的液体，接着右手放下打蛋器并用勺子挖了一勺红色液体倒入左边的碗中，然后右手拿了一个打蛋器开始搅拌左边碗里的液体，接着双手放下打蛋器，右手拿起装有红色粉末的碗，左手拿起装有绿色粉末的碗，然后右手将装有红色粉末的碗放到右边，左手将装有绿色粉末的碗放到左边，然后右手拿起一个打蛋器开始搅拌右边的碗中的液体，接着右手放下打蛋器并用勺子挖了一勺红色液体倒入左边的碗中，然后右手拿了一个打蛋器开始搅拌左边碗里的液体，接着双手放下打蛋器，右手拿起装有红色粉末的碗，左手拿起装有绿色粉末的碗，然后右手将装有红色粉末的碗放到右边，左手将装有绿色粉末', role='assistant', tool_calls=None)\n"
     ]
    }
   ],
   "source": [
    "video_path = \"video_1.mp4\"\n",
    "with open(video_path,'rb')as video_file:\n",
    "    video_base = base64.b64encode(video_file.read()).decode('utf-8')\n",
    "                                                            \n",
    "print(\"通常来说，视频理解的响应时间较长，需要等待数十秒.....\")\n",
    "                                                            \n",
    "response = client.chat.completions.create(\n",
    "    model=\"glm-4v-plus\",\n",
    "    temperature=0.0,\n",
    "    top_p=0,\n",
    "    \n",
    "    messages=[{\n",
    "        \"role\":\"user\",\n",
    "        \"content\":[{\n",
    "            \"type\":\"video_url\",\n",
    "            \"video_url\":{\"url\":video_base}\n",
    "        },{\n",
    "            \"type\":\"text\",\n",
    "            \"text\":\"请仔细描述视频内容\"\n",
    "        }]\n",
    "    }]\n",
    ")\n",
    "                                                            \n",
    "print(response.choices[0].message)"
   ]
  },
  {
   "cell_type": "code",
   "execution_count": null,
   "id": "d3adfd5d-9402-4e98-b848-a2d1c30a9b22",
   "metadata": {},
   "outputs": [],
   "source": []
  }
 ],
 "metadata": {
  "kernelspec": {
   "display_name": "Python 3 (ipykernel)",
   "language": "python",
   "name": "python3"
  },
  "language_info": {
   "codemirror_mode": {
    "name": "ipython",
    "version": 3
   },
   "file_extension": ".py",
   "mimetype": "text/x-python",
   "name": "python",
   "nbconvert_exporter": "python",
   "pygments_lexer": "ipython3",
   "version": "3.9.7"
  }
 },
 "nbformat": 4,
 "nbformat_minor": 5
}
