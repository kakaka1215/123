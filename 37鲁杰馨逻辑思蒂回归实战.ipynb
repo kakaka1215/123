{
 "cells": [
  {
   "cell_type": "code",
   "execution_count": 7,
   "id": "9c1e5119-1aca-4476-a170-14226ac92294",
   "metadata": {},
   "outputs": [],
   "source": [
    "from sklearn.datasets import load_breast_cancer\n",
    "from sklearn.model_selection import train_test_split\n",
    "from sklearn.linear_model import LogisticRegression\n",
    "from sklearn.metrics import classification_report,accuracy_score"
   ]
  },
  {
   "cell_type": "code",
   "execution_count": 21,
   "id": "2a067118-be7f-48f3-986b-d5d76a8adbba",
   "metadata": {},
   "outputs": [],
   "source": [
    "x, y = load_breast_cancer(return_X_y=True)"
   ]
  },
  {
   "cell_type": "code",
   "execution_count": 33,
   "id": "eabef5c3-c3e3-4be6-8a02-e8269292626c",
   "metadata": {},
   "outputs": [
    {
     "name": "stdout",
     "output_type": "stream",
     "text": [
      "[[1.222e+01 2.004e+01 7.947e+01 ... 8.088e-02 2.709e-01 8.839e-02]\n",
      " [2.031e+01 2.706e+01 1.329e+02 ... 1.697e-01 3.151e-01 7.999e-02]\n",
      " [1.160e+01 1.836e+01 7.388e+01 ... 8.288e-02 3.210e-01 7.863e-02]\n",
      " ...\n",
      " [1.369e+01 1.607e+01 8.784e+01 ... 6.987e-02 3.323e-01 7.701e-02]\n",
      " [1.795e+01 2.001e+01 1.142e+02 ... 1.185e-01 4.882e-01 6.111e-02]\n",
      " [1.305e+01 1.931e+01 8.261e+01 ... 1.111e-02 2.439e-01 6.289e-02]]\n"
     ]
    }
   ],
   "source": [
    "from sklearn.datasets import load_breast_cancer\n",
    "from sklearn.model_selection import train_test_split\n",
    "\n",
    "# 加载数据集\n",
    "x, y = load_breast_cancer(return_X_y=True)\n",
    "\n",
    "# 划分数据集为训练集和测试集\n",
    "x_train, X_test, y_train, y_test = train_test_split(x, y, train_size=0.875, test_size=0.125, random_state=188)\n",
    "\n",
    "# 打印训练集的特征数据\n",
    "print(x_train)"
   ]
  },
  {
   "cell_type": "markdown",
   "id": "06868625-8807-4afd-bd6e-3ab415f42dff",
   "metadata": {},
   "source": [
    "print(x)\n",
    "x_train,X_test,y_train,y_test = train_test_split(\n",
    "    х,y,\n",
    "    train_size=0.875, test_size=0.125, random_state=188\n",
    ")"
   ]
  },
  {
   "cell_type": "code",
   "execution_count": null,
   "id": "15d5f8de-33bf-4957-a809-f7f987642500",
   "metadata": {},
   "outputs": [],
   "source": []
  },
  {
   "cell_type": "code",
   "execution_count": 37,
   "id": "686ec8b4-e4e6-479c-b19a-5c75919eeefe",
   "metadata": {},
   "outputs": [
    {
     "data": {
      "text/plain": [
       "LogisticRegression(max_iter=3000, multi_class='ovr')"
      ]
     },
     "execution_count": 37,
     "metadata": {},
     "output_type": "execute_result"
    }
   ],
   "source": [
    "#使员L类，初如化楼坚\n",
    "clf = LogisticRegression(\n",
    "    penalty=\"l2\",C=1.0,random_state=None,solver=\"lbfgs\", max_iter=3000,\n",
    "    multi_class='ovr',verbose=0,\n",
    ")\n",
    "# 使界洲练嵌奶来学习（奴合）\n",
    "clf.fit(x_train,y_train)"
   ]
  },
  {
   "cell_type": "code",
   "execution_count": 39,
   "id": "f87902ed-137d-4365-93a1-a2cb6e9cb5d0",
   "metadata": {},
   "outputs": [],
   "source": [
    "# 使用洲过数招来预测，返回估预测分类数据\n",
    "y_pred = clf.predict(X_test)"
   ]
  },
  {
   "cell_type": "code",
   "execution_count": 40,
   "id": "e282c21c-b756-40a2-83a9-7c2a2e97c863",
   "metadata": {},
   "outputs": [
    {
     "name": "stdout",
     "output_type": "stream",
     "text": [
      "---report ---\n",
      "              precision    recall  f1-score   support\n",
      "\n",
      "           0       0.96      0.96      0.96        27\n",
      "           1       0.98      0.98      0.98        45\n",
      "\n",
      "    accuracy                           0.97        72\n",
      "   macro avg       0.97      0.97      0.97        72\n",
      "weighted avg       0.97      0.97      0.97        72\n",
      "\n",
      "---params ---\n",
      "[[ 0.89960769  0.17888852 -0.30396602  0.02572356 -0.17667936 -0.19319243\n",
      "  -0.56543832 -0.30645813 -0.25374937 -0.02428212 -0.07407326  1.09546992\n",
      "   0.11108786 -0.10663238 -0.02759738  0.0854027  -0.03498365 -0.0387471\n",
      "  -0.03079349  0.01957814  0.26004763 -0.45621821 -0.07916768 -0.01658918\n",
      "  -0.36072651 -0.6348124  -1.54604075 -0.6192092  -0.72734147 -0.06821056]] [28.59968311]\n",
      "--- accuracy ---\n",
      "0.9722222222222222\n"
     ]
    }
   ],
   "source": [
    "#，打印主要分类指标的文本报告\n",
    "print('---report ---')\n",
    "print(classification_report(y_test,y_pred))\n",
    "\n",
    "# 打印模型的参数\n",
    "print('---params ---')\n",
    "print(clf.coef_, clf.intercept_)\n",
    "\n",
    "# 打印淮确率\n",
    "print('--- accuracy ---')\n",
    "print(accuracy_score(y_test, y_pred))"
   ]
  },
  {
   "cell_type": "code",
   "execution_count": null,
   "id": "54536b44-61eb-490c-933b-910b256907f5",
   "metadata": {},
   "outputs": [],
   "source": []
  },
  {
   "cell_type": "code",
   "execution_count": null,
   "id": "5c8a9f99-2b8e-48b2-b8cd-b1a8782b8cc0",
   "metadata": {},
   "outputs": [],
   "source": []
  },
  {
   "cell_type": "code",
   "execution_count": null,
   "id": "999c46f5-da4c-470d-9ca2-05d7ac18edef",
   "metadata": {},
   "outputs": [],
   "source": []
  },
  {
   "cell_type": "code",
   "execution_count": null,
   "id": "9ce6e2b4-dc5b-406f-905d-8bb0b77f28d4",
   "metadata": {},
   "outputs": [],
   "source": []
  },
  {
   "cell_type": "code",
   "execution_count": null,
   "id": "44d7fb82-3eaf-40e3-9bd9-19995c3d51c6",
   "metadata": {},
   "outputs": [],
   "source": []
  },
  {
   "cell_type": "code",
   "execution_count": null,
   "id": "5093d946-0f0f-4a16-bb60-ff7b8e05d7d9",
   "metadata": {},
   "outputs": [],
   "source": []
  },
  {
   "cell_type": "code",
   "execution_count": null,
   "id": "99b7451d-20cd-4804-8614-2285a3deb650",
   "metadata": {},
   "outputs": [],
   "source": []
  },
  {
   "cell_type": "code",
   "execution_count": null,
   "id": "c3075314-0fc6-4f73-9b05-ef6794c1a5ca",
   "metadata": {},
   "outputs": [],
   "source": []
  }
 ],
 "metadata": {
  "kernelspec": {
   "display_name": "Python 3 (ipykernel)",
   "language": "python",
   "name": "python3"
  },
  "language_info": {
   "codemirror_mode": {
    "name": "ipython",
    "version": 3
   },
   "file_extension": ".py",
   "mimetype": "text/x-python",
   "name": "python",
   "nbconvert_exporter": "python",
   "pygments_lexer": "ipython3",
   "version": "3.9.7"
  }
 },
 "nbformat": 4,
 "nbformat_minor": 5
}
